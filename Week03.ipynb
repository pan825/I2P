{
  "nbformat": 4,
  "nbformat_minor": 0,
  "metadata": {
    "colab": {
      "provenance": [],
      "include_colab_link": true
    },
    "kernelspec": {
      "name": "python3",
      "display_name": "Python 3"
    },
    "language_info": {
      "name": "python"
    }
  },
  "cells": [
    {
      "cell_type": "markdown",
      "metadata": {
        "id": "view-in-github",
        "colab_type": "text"
      },
      "source": [
        "<a href=\"https://colab.research.google.com/github/pan825/I2P/blob/main/Week03.ipynb\" target=\"_parent\"><img src=\"https://colab.research.google.com/assets/colab-badge.svg\" alt=\"Open In Colab\"/></a>"
      ]
    },
    {
      "cell_type": "markdown",
      "source": [
        "# 第三週上課內容"
      ],
      "metadata": {
        "id": "9xoK4OIjIfZA"
      }
    },
    {
      "cell_type": "markdown",
      "source": [
        "###GitHub 教材參考資料\n",
        "\n",
        "1. 型別轉換\n",
        "2. for loop 以及雙層 for loop\n",
        "3. 條件判斷 `if else`   `&&` 與 `||` 與 `!`\n",
        "4. 迴圈和條件判斷搭配\n",
        "\n",
        "\n",
        "\n",
        "https://github.com/htchen/i2p-nthu/tree/master/程式設計一/Operators%2C%20Expressions%2C%20and%20Statements\n",
        "\n",
        "https://github.com/htchen/i2p-nthu/tree/master/程式設計一/Looping\n",
        "\n",
        "https://github.com/htchen/i2p-nthu/blob/master/程式設計一/if%20else/if%20else.md\n"
      ],
      "metadata": {
        "id": "05G1Fqg6GRZX"
      }
    },
    {
      "cell_type": "markdown",
      "source": [
        "##Example 1\n",
        "\n",
        "```\n",
        "for loop\n",
        "for (initialize; test; update) {\n",
        "  ...\n",
        "}\n",
        "```\n",
        "\n",
        "```\n",
        "for ( 初始化 initialize ; 是否繼續執行的條件判斷 test ; 更新變數值 update ) {\n",
        "  ...\n",
        "\n",
        "}\n",
        "```\n",
        "\n",
        "其中三個區域的每個區域所做的事情還可稍加變化。如果什麼都沒有，寫成\n",
        "```\n",
        "for ( ; ; ) {\n",
        "  printf(\"Do something.\\n\");\n",
        "}\n",
        "```\n",
        "作用則相當於無窮迴圈。\n",
        "\n",
        "\n",
        "---\n",
        "\n",
        "其他 Assignment 符號: `+=，-=，*=，/=，%=`\n",
        "\n",
        "這些可看成是簡寫的 assignment 符號，`x += 5;`相當於 `x = x + 5;` 而 `y %= 7;` 相當於 `y = y % 7;` 以此類推。\n",
        "\n",
        "在 `for` 迴圈的第三部份 (更新變數值) 用這樣的寫法會比較簡潔，但你不一定要用這樣的寫法，\n",
        "\n",
        "只要順著自己的習慣 就可以。知道有這樣的寫法，看到別人的程式用到這種寫法才能知道它的意思。\n",
        "\n",
        "在 `for` 迴圈的第一部份 (初始化) 和第三部份 (更新變數值)，其實允許我們做兩個以上的 statements。"
      ],
      "metadata": {
        "id": "Tgxixt6ywNp1"
      }
    },
    {
      "cell_type": "code",
      "source": [
        "%%writefile E03_01.c\n",
        "#include <stdio.h>\n",
        "int main(void)\n",
        "{\n",
        "\tunsigned char ch;\n",
        "\tfor (ch = 48; ch <= 57; ch++) {\n",
        "\t\tprintf(\"The ASCII value for %c is %d or %x.\\n\", ch, ch, ch);\n",
        "\t}\n",
        "\n",
        "\tprintf(\"%c %c %d %d\", 48, '0', 48, '0');\n",
        "\treturn 0;\n",
        "}"
      ],
      "metadata": {
        "id": "gQGtjE5xwgOd",
        "colab": {
          "base_uri": "https://localhost:8080/"
        },
        "outputId": "cab62dcd-2241-4f66-f58c-afb0e48eede3"
      },
      "execution_count": null,
      "outputs": [
        {
          "output_type": "stream",
          "name": "stdout",
          "text": [
            "Overwriting E03_01.c\n"
          ]
        }
      ]
    },
    {
      "cell_type": "code",
      "source": [
        "%%shell\n",
        "gcc E03_01.c -o E03_01\n",
        "./E03_01"
      ],
      "metadata": {
        "colab": {
          "base_uri": "https://localhost:8080/"
        },
        "id": "uywwODIEWzPt",
        "outputId": "124befed-0074-444e-a5bb-4caa47050542"
      },
      "execution_count": null,
      "outputs": [
        {
          "output_type": "stream",
          "name": "stdout",
          "text": [
            "The ASCII value for 0 is 48 or 30.\n",
            "The ASCII value for 1 is 49 or 31.\n",
            "The ASCII value for 2 is 50 or 32.\n",
            "The ASCII value for 3 is 51 or 33.\n",
            "The ASCII value for 4 is 52 or 34.\n",
            "The ASCII value for 5 is 53 or 35.\n",
            "The ASCII value for 6 is 54 or 36.\n",
            "The ASCII value for 7 is 55 or 37.\n",
            "The ASCII value for 8 is 56 or 38.\n",
            "The ASCII value for 9 is 57 or 39.\n",
            "0 0 48 48"
          ]
        },
        {
          "output_type": "execute_result",
          "data": {
            "text/plain": []
          },
          "metadata": {},
          "execution_count": 4
        }
      ]
    },
    {
      "cell_type": "markdown",
      "source": [
        "##Example 2\n",
        "for loop 多做幾件事\n",
        "\n",
        "`for (n=1, cost=FIRST_PACK; n<=10; n++, cost+=NEXT_PACK)`"
      ],
      "metadata": {
        "id": "zNUTiLmOYNeW"
      }
    },
    {
      "cell_type": "code",
      "source": [
        "%%writefile E03_02.c\n",
        "#include <stdio.h>\n",
        "#define FIRST_PACK 7\n",
        "#define NEXT_PACK 5\n",
        "int main(void)\n",
        "{\n",
        "\tint n, cost;\n",
        "\tprintf(\" packs costs\\n\");\n",
        "\tfor (n=1, cost=FIRST_PACK; n<=10; n++, cost+=NEXT_PACK) {\n",
        "\t\tprintf(\"%5d     $%-5d\\n\", n, cost);\n",
        "\t}\n",
        "\treturn 0;\n",
        "}"
      ],
      "metadata": {
        "id": "TQmPcAFzXOgo"
      },
      "execution_count": null,
      "outputs": []
    },
    {
      "cell_type": "code",
      "source": [
        "%%shell\n",
        "gcc E03_02.c -o E03_02\n",
        "./E03_02"
      ],
      "metadata": {
        "colab": {
          "base_uri": "https://localhost:8080/"
        },
        "id": "1idm33scXTOr",
        "outputId": "0718d77b-6dcb-4a51-ce11-7842a7547692"
      },
      "execution_count": null,
      "outputs": [
        {
          "output_type": "stream",
          "name": "stdout",
          "text": [
            " packs costs\n",
            "    1     $7    \n",
            "    2     $12   \n",
            "    3     $17   \n",
            "    4     $22   \n",
            "    5     $27   \n",
            "    6     $32   \n",
            "    7     $37   \n",
            "    8     $42   \n",
            "    9     $47   \n",
            "   10     $52   \n"
          ]
        },
        {
          "output_type": "execute_result",
          "data": {
            "text/plain": [
              ""
            ]
          },
          "metadata": {},
          "execution_count": 4
        }
      ]
    },
    {
      "cell_type": "markdown",
      "source": [
        "##Exercise 1\n",
        "```\n",
        "/*\n",
        "使用者輸入想要顯示的長方形的高度和寬度\n",
        "輸出一個由 * 構成且符合使用者輸入之大小的長方形\n",
        "可以使用額外的變數 k\n",
        "也可以只用到 i 和 j (利用 % 符號做求餘數的運算)\n",
        "把下面程式碼 ??? 填入正確的運算式\n",
        "讓程式可以達到預期的效果\n",
        "*/\n",
        "#include <stdio.h>\n",
        "int main(void)\n",
        "{\n",
        "    int i, j, k;\n",
        "    scanf(\"%d%d\", &i, &j);\n",
        "    for(???; ???; ???) {\n",
        "        for (???; ???; ???) {\n",
        "            printf(\"*\");\n",
        "        }\n",
        "        printf(\"\\n\");\n",
        "    }      \n",
        "\n",
        "    return 0;\n",
        "}\n",
        "```"
      ],
      "metadata": {
        "id": "1I4GTrr-Xf-X"
      }
    },
    {
      "cell_type": "code",
      "source": [
        "%%writefile W03_01.c\n",
        "/*\n",
        "使用者輸入想要顯示的長方形的高度和寬度\n",
        "輸出一個由 * 構成且符合使用者輸入之大小的長方形\n",
        "可以使用額外的變數 k\n",
        "也可以只用到 i 和 j (利用 % 符號做求餘數的運算)\n",
        "把下面程式碼 ??? 填入正確的運算式\n",
        "讓程式可以達到預期的效果\n",
        "*/\n",
        "#include <stdio.h>\n",
        "int main(void)\n",
        "{\n",
        "    int i, j, k;\n",
        "    scanf(\"%d%d\", &i, &j);\n",
        "    for(; i>0; --i) {\n",
        "        for (k=j; k>0; --k) {\n",
        "            printf(\"*\");\n",
        "        }\n",
        "        printf(\"\\n\");\n",
        "    }\n",
        "\n",
        "    return 0;\n",
        "}"
      ],
      "metadata": {
        "id": "pwDEwV2KXpZ-",
        "colab": {
          "base_uri": "https://localhost:8080/"
        },
        "outputId": "14717cf7-0df2-4f04-cf35-9aab1a26390d"
      },
      "execution_count": null,
      "outputs": [
        {
          "output_type": "stream",
          "name": "stdout",
          "text": [
            "Writing W03_01.c\n"
          ]
        }
      ]
    },
    {
      "cell_type": "code",
      "source": [
        "%%shell\n",
        "gcc W03_01.c -o W03_01\n",
        "./W03_01\n"
      ],
      "metadata": {
        "id": "T2IZO6YmXzoM",
        "colab": {
          "base_uri": "https://localhost:8080/"
        },
        "outputId": "63f6a6b0-15f0-4055-ede1-4f62020d5533"
      },
      "execution_count": null,
      "outputs": [
        {
          "output_type": "stream",
          "name": "stdout",
          "text": [
            "7 3\n",
            "***\n",
            "***\n",
            "***\n",
            "***\n",
            "***\n",
            "***\n",
            "***\n"
          ]
        },
        {
          "output_type": "execute_result",
          "data": {
            "text/plain": []
          },
          "metadata": {},
          "execution_count": 7
        }
      ]
    },
    {
      "cell_type": "markdown",
      "source": [
        "##Example 3\n",
        "\n",
        "雙層迴圈"
      ],
      "metadata": {
        "id": "JpsLGZK4YGx9"
      }
    },
    {
      "cell_type": "code",
      "source": [
        "%%writefile E03_03.c\n",
        "#include <stdio.h>\n",
        "// global array\n",
        "int b[10000][100000];\n",
        "int f(void)\n",
        "{\n",
        "    b[0][1] = 3;\n",
        "    return b[1][0];\n",
        "}\n",
        "int main(void)\n",
        "{\n",
        "    int i, j;\n",
        "\n",
        "    printf(\"Go!\\n\");\n",
        "    for (i = 0; i < 10000; i++) {\n",
        "        for (j = 0; j < 100000; j++) {\n",
        "            b[i][j] = i*j;\n",
        "        }\n",
        "    }\n",
        "    printf(\"Done.\\n\");\n",
        "\n",
        "    for (i = 1; i <= 9; i++) {\n",
        "        for (j = 1; j <= 9; j++) {\n",
        "            printf(\"%3d\", b[i][j]);\n",
        "        }\n",
        "        printf(\"\\n\");\n",
        "    }\n",
        "\n",
        "    return 0;\n",
        "}"
      ],
      "metadata": {
        "id": "rHlzKwUaYB_t"
      },
      "execution_count": null,
      "outputs": []
    },
    {
      "cell_type": "code",
      "source": [
        "%%shell\n",
        "gcc E03_03.c -o E03_03"
      ],
      "metadata": {
        "colab": {
          "base_uri": "https://localhost:8080/"
        },
        "id": "wMY92o71YuyE",
        "outputId": "6fe82dc7-d756-48d2-a0d4-cbb7cc06e4f3"
      },
      "execution_count": null,
      "outputs": [
        {
          "output_type": "execute_result",
          "data": {
            "text/plain": []
          },
          "metadata": {},
          "execution_count": 11
        }
      ]
    },
    {
      "cell_type": "code",
      "source": [
        "%%time\n",
        "!./E03_03"
      ],
      "metadata": {
        "colab": {
          "base_uri": "https://localhost:8080/"
        },
        "id": "dbe2k6B3ZkQq",
        "outputId": "c4689395-fe52-43e1-be3b-df49f31985fa"
      },
      "execution_count": null,
      "outputs": [
        {
          "output_type": "stream",
          "name": "stdout",
          "text": [
            "Go!\n",
            "Done.\n",
            "  1  2  3  4  5  6  7  8  9\n",
            "  2  4  6  8 10 12 14 16 18\n",
            "  3  6  9 12 15 18 21 24 27\n",
            "  4  8 12 16 20 24 28 32 36\n",
            "  5 10 15 20 25 30 35 40 45\n",
            "  6 12 18 24 30 36 42 48 54\n",
            "  7 14 21 28 35 42 49 56 63\n",
            "  8 16 24 32 40 48 56 64 72\n",
            "  9 18 27 36 45 54 63 72 81\n",
            "CPU times: user 52.2 ms, sys: 14.4 ms, total: 66.6 ms\n",
            "Wall time: 5.05 s\n"
          ]
        }
      ]
    },
    {
      "cell_type": "code",
      "source": [
        "%%writefile test.c\n",
        "#include <stdio.h>\n",
        "#include <string.h>\n",
        "unsigned long my_strlen(char s[]);\n",
        "\n",
        "\n",
        "int main(void)\n",
        "{\n",
        "    char str[10];\n",
        "\n",
        "    str[0] = 65; // 'A'\n",
        "    str[1] = 80; // 'P'\n",
        "    str[2] = 80; // 'P'\n",
        "    str[3] = 90; // 'Z'\n",
        "    str[4] = 0;  // '\\0'\n",
        "\n",
        "    printf(\"%s %lu\\n\", str, my_strlen(str));\n",
        "    return 0;\n",
        "}\n",
        "\n",
        "unsigned long my_strlen(char s[])\n",
        "{\n",
        "    unsigned long i = 0;\n",
        "\n",
        "    while (s[i]) {\n",
        "      i++;\n",
        "    }\n",
        "    return i;\n",
        "}"
      ],
      "metadata": {
        "colab": {
          "base_uri": "https://localhost:8080/"
        },
        "id": "D8VW2F1FkBDw",
        "outputId": "25188248-23ed-46b3-a056-b589d517a9c2"
      },
      "execution_count": null,
      "outputs": [
        {
          "output_type": "stream",
          "name": "stdout",
          "text": [
            "Overwriting test.c\n"
          ]
        }
      ]
    },
    {
      "cell_type": "code",
      "source": [
        "%%shell\n",
        "gcc test.c -o test\n",
        "./test"
      ],
      "metadata": {
        "colab": {
          "base_uri": "https://localhost:8080/"
        },
        "id": "SZUIGyjCke5x",
        "outputId": "cb5fe6b4-c41f-4245-c7a6-5573d9dd66cd"
      },
      "execution_count": null,
      "outputs": [
        {
          "output_type": "stream",
          "name": "stdout",
          "text": [
            "APPZ 4\n"
          ]
        },
        {
          "output_type": "execute_result",
          "data": {
            "text/plain": []
          },
          "metadata": {},
          "execution_count": 17
        }
      ]
    },
    {
      "cell_type": "markdown",
      "source": [
        "##Example 4\n",
        "\n",
        "使用 `getchar()` 和 `putchar()`"
      ],
      "metadata": {
        "id": "tSPYrAKcZy0v"
      }
    },
    {
      "cell_type": "code",
      "source": [
        "%%writefile E03_04.c\n",
        "/*\n",
        "使用者輸入一串字元(讀到 '\\n' 就結束)\n",
        "把這串字元裡全部的英文字母都轉成大寫再輸出\n",
        "*/\n",
        "#include <stdio.h>\n",
        "#include <ctype.h>\n",
        "int main(void)\n",
        "{\n",
        "   char ch;\n",
        "\n",
        "   while ( (ch = getchar()) != '\\n' ) {\n",
        "      putchar(toupper(ch));\n",
        "   }\n",
        "   putchar(ch);\n",
        "\n",
        "   return 0;\n",
        "}"
      ],
      "metadata": {
        "id": "_6ZnxeRPZ6iP",
        "colab": {
          "base_uri": "https://localhost:8080/"
        },
        "outputId": "8eab0052-655c-4de6-fa2b-0c69da064d90"
      },
      "execution_count": null,
      "outputs": [
        {
          "output_type": "stream",
          "name": "stdout",
          "text": [
            "Writing E03_04.c\n"
          ]
        }
      ]
    },
    {
      "cell_type": "code",
      "source": [
        "%%shell\n",
        "gcc E03_04.c -o E03_04\n",
        "./E03_04"
      ],
      "metadata": {
        "id": "qGfIGnq7aExf",
        "colab": {
          "base_uri": "https://localhost:8080/"
        },
        "outputId": "bdb90cd8-6ee4-42e1-9177-ea850ac91aa6"
      },
      "execution_count": null,
      "outputs": [
        {
          "output_type": "stream",
          "name": "stdout",
          "text": [
            "adfadsf  asdfasd dfasd\n",
            "ADFADSF  ASDFASD DFASD\n"
          ]
        },
        {
          "output_type": "execute_result",
          "data": {
            "text/plain": []
          },
          "metadata": {},
          "execution_count": 21
        }
      ]
    },
    {
      "cell_type": "markdown",
      "source": [
        "##Example 5\n",
        "\n",
        "`if` (條件判斷) {\n",
        "}\n",
        "列出因數\n"
      ],
      "metadata": {
        "id": "QYQvlILjaMgi"
      }
    },
    {
      "cell_type": "code",
      "source": [
        "%%writefile E03_05.c\n",
        "/*\n",
        "輸入一個正整數\n",
        "程式必須列出除了 1 和該正整數本身以外的全部因數\n",
        "因數必須從小到大排列\n",
        "如果無法因數分解\n",
        "則成是必須顯示這個正整數是質數\n",
        "*/\n",
        "#include <stdio.h>\n",
        "int main(void)\n",
        "{\n",
        "   int num, div;\n",
        "   int isPrime = 1;\n",
        "\n",
        "   printf(\"Please enter an integer (q to quit): \\n\");\n",
        "   scanf(\"%d\", &num);\n",
        "\n",
        "   for (div=2; div*div <= num ;div++) {\n",
        "       if (num % div == 0) {\n",
        "          printf(\"%d, %d, \", div, num/div);\n",
        "          isPrime = 0;\n",
        "       }\n",
        "   }\n",
        "\n",
        "\n",
        "   if (isPrime == 1) {\n",
        "      printf(\"%d is prime.\\n\", num);\n",
        "   } else {\n",
        "      printf(\" are divisors of %d\\n\", num);\n",
        "   }\n",
        "   return 0;\n",
        "}"
      ],
      "metadata": {
        "id": "Kg8LMdcYaX9I",
        "colab": {
          "base_uri": "https://localhost:8080/"
        },
        "outputId": "a6a04082-ba35-4dd2-c889-bb9bee6b1c06"
      },
      "execution_count": null,
      "outputs": [
        {
          "output_type": "stream",
          "name": "stdout",
          "text": [
            "Writing E03_05.c\n"
          ]
        }
      ]
    },
    {
      "cell_type": "code",
      "source": [
        "%%shell\n",
        "gcc E03_05.c -o E03_05\n",
        "./E03_05"
      ],
      "metadata": {
        "id": "SL1x7X9gaiiO",
        "colab": {
          "base_uri": "https://localhost:8080/"
        },
        "outputId": "8c740863-8b6b-4db8-9e71-a98691b9c352"
      },
      "execution_count": null,
      "outputs": [
        {
          "output_type": "stream",
          "name": "stdout",
          "text": [
            "Please enter an integer (q to quit): \n",
            "100\n",
            "2, 50, 4, 25, 5, 20, 10, 10,  are divisors of 100\n"
          ]
        },
        {
          "output_type": "execute_result",
          "data": {
            "text/plain": []
          },
          "metadata": {},
          "execution_count": 23
        }
      ]
    },
    {
      "cell_type": "markdown",
      "source": [
        "##Example 6\n",
        "\n",
        "`if` expression"
      ],
      "metadata": {
        "id": "pSimQM-8aqt6"
      }
    },
    {
      "cell_type": "code",
      "source": [
        "%%writefile E03_06.c\n",
        "/*\n",
        "定義一個 function (取名為 check)\n",
        "檢驗下面的 expression\n",
        "根據 expression 的值\n",
        "輸出對應的資訊 \"True\" 或 \"False\"\n",
        "*/\n",
        "#include <stdio.h>\n",
        "void check(int cond)\n",
        "{\n",
        "    if (cond) {\n",
        "        printf(\"True\\n\");\n",
        "    } else {\n",
        "        printf(\"False\\n\");\n",
        "    }\n",
        "}\n",
        "int main(void)\n",
        "{\n",
        "   int x = 5;\n",
        "   int y = 3;\n",
        "\n",
        "   check(x > 2 && y == 3);\n",
        "   check( !(x < 2 || y == 3) );\n",
        "   check(x != 0 && y);\n",
        "   check(x == 0 || !y);\n",
        "   check(x != y && (20/x) < y);\n",
        "   check( !(y>5 || y<2) && !(x%5) );\n",
        "   check(!x && x);\n",
        "\n",
        "   return 0;\n",
        "}"
      ],
      "metadata": {
        "id": "Mqsrrc2YalHD"
      },
      "execution_count": null,
      "outputs": []
    },
    {
      "cell_type": "code",
      "source": [
        "%%shell\n",
        "gcc E03_06.c -o E03_06\n",
        "./E03_06"
      ],
      "metadata": {
        "id": "GUvRctw8a1Mx",
        "colab": {
          "base_uri": "https://localhost:8080/"
        },
        "outputId": "fb21f3f7-f3d5-4bd1-fd48-17709684da48"
      },
      "execution_count": null,
      "outputs": [
        {
          "output_type": "stream",
          "name": "stdout",
          "text": [
            "True\n",
            "False\n",
            "True\n",
            "False\n",
            "False\n",
            "True\n",
            "False\n"
          ]
        },
        {
          "output_type": "execute_result",
          "data": {
            "text/plain": []
          },
          "metadata": {},
          "execution_count": 40
        }
      ]
    },
    {
      "cell_type": "markdown",
      "source": [
        "##Example 7\n",
        "找出滿足餘數條件的最小正數"
      ],
      "metadata": {
        "id": "jUvTa6IsbHE0"
      }
    },
    {
      "cell_type": "code",
      "source": [
        "%%writefile E03_07.c\n",
        "/*\n",
        "Find the smallest N that satisfies\n",
        "    N % x == a\n",
        "    N % y == b\n",
        "    N % z == c\n",
        "For example,\n",
        "if x=3, y=5, z=7, and a=2, b=3, c=4,\n",
        "then, N is 53 since\n",
        "    53 % 3 == 2\n",
        "    53 % 5 == 3\n",
        "    53 % 7 == 4\n",
        "and 53<=3*5*7.\n",
        "\n",
        "Another test case:\n",
        "Input:\n",
        "23 29 37\n",
        "10 20 30\n",
        "Output:\n",
        "14201\n",
        " */\n",
        "#include <stdio.h>\n",
        "int main(void)\n",
        "{\n",
        "  /*\n",
        "    freopen(\"testcase.txt\", \"r\", stdin);\n",
        "    freopen(\"output.txt\", \"w\", stdout);\n",
        "  */\n",
        "\n",
        "    int x, y, z;\n",
        "    int a, b, c;\n",
        "    int i;\n",
        "    scanf(\"%d%d%d\", &x, &y, &z);\n",
        "    scanf(\"%d%d%d\", &a, &b, &c);\n",
        "    for (i=1; i<=x*y*z*5; i++) {\n",
        "          if (i%x==a && i%y==b && i%z==c) {\n",
        "            printf(\"%d\\n\", i);\n",
        "            break;\n",
        "          }\n",
        "    }\n",
        "\n",
        "    return 0;\n",
        "}"
      ],
      "metadata": {
        "id": "zzerIzxQbDDy",
        "colab": {
          "base_uri": "https://localhost:8080/"
        },
        "outputId": "6cc569af-829d-4160-d43c-cbcefcb27f74"
      },
      "execution_count": null,
      "outputs": [
        {
          "output_type": "stream",
          "name": "stdout",
          "text": [
            "Writing E03_07.c\n"
          ]
        }
      ]
    },
    {
      "cell_type": "code",
      "source": [
        "%%writefile testcase.txt\n",
        "3 5 7\n",
        "2 4 3"
      ],
      "metadata": {
        "colab": {
          "base_uri": "https://localhost:8080/"
        },
        "id": "qkjkgMmkD6pO",
        "outputId": "e31a37ec-0435-421f-9cfe-c48c02e5db2e"
      },
      "execution_count": null,
      "outputs": [
        {
          "output_type": "stream",
          "name": "stdout",
          "text": [
            "Writing testcase.txt\n"
          ]
        }
      ]
    },
    {
      "cell_type": "code",
      "source": [
        "%%writefile output.txt"
      ],
      "metadata": {
        "colab": {
          "base_uri": "https://localhost:8080/"
        },
        "id": "WrklZfSWECTG",
        "outputId": "240f394d-88b6-42e8-fc65-380a5d3264ce"
      },
      "execution_count": null,
      "outputs": [
        {
          "output_type": "stream",
          "name": "stdout",
          "text": [
            "Writing output.txt\n"
          ]
        }
      ]
    },
    {
      "cell_type": "code",
      "source": [
        "%%shell\n",
        "cat testcase.txt\n",
        "cat output.txt"
      ],
      "metadata": {
        "colab": {
          "base_uri": "https://localhost:8080/"
        },
        "id": "A55Xol6TEJGL",
        "outputId": "0cd77143-f003-4f5b-9d53-b61eae70d37a"
      },
      "execution_count": null,
      "outputs": [
        {
          "output_type": "stream",
          "name": "stdout",
          "text": [
            "3 5 7\n",
            "2 4 3\n",
            "59\n"
          ]
        },
        {
          "output_type": "execute_result",
          "data": {
            "text/plain": []
          },
          "metadata": {},
          "execution_count": 56
        }
      ]
    },
    {
      "cell_type": "code",
      "source": [
        "%%shell\n",
        "gcc E03_07.c -o E03_07\n",
        "./E03_07"
      ],
      "metadata": {
        "colab": {
          "base_uri": "https://localhost:8080/"
        },
        "id": "I5DNPoyJbdxQ",
        "outputId": "ceca34a0-2f30-4698-e28f-562b5ef9cb8a"
      },
      "execution_count": null,
      "outputs": [
        {
          "output_type": "execute_result",
          "data": {
            "text/plain": []
          },
          "metadata": {},
          "execution_count": 55
        }
      ]
    },
    {
      "cell_type": "markdown",
      "source": [
        "##Example 8\n",
        "\n",
        "程式碼測試階段，可以在 `main` 一開始的地方加入底下的程式碼，這樣每次執行時就不必手動重複輸入測試資料：\n",
        "\n",
        "```\n",
        "    freopen(\"testcase.txt\", \"r\", stdin);\n",
        "    freopen(\"output.txt\", \"w\", stdout);\n",
        "```\n",
        "\n",
        "`testcase.txt` 是你自己編輯的測試資料文字檔\n",
        "\n",
        "`output.txt` 則會由程式自動產生，檔案裡面會是程式執行的結果\n",
        "\n",
        "最後上傳到 Online Judge 的程式碼記得要用 `/*` `*/` 把上面兩行變成註解"
      ],
      "metadata": {
        "id": "dHQBaha-cAUQ"
      }
    },
    {
      "cell_type": "code",
      "source": [
        "%%writefile test2.c\n",
        "#include <stdio.h>\n",
        "int main(void)\n",
        "{\n",
        "    unsigned char a;\n",
        "    char b;  // -128... +127\n",
        "    a = 128;\n",
        "    b = 127;\n",
        "    printf(\"%d\\n\", b);\n",
        "    b++;\n",
        "    printf(\"%d\\n\", b);\n",
        "}"
      ],
      "metadata": {
        "colab": {
          "base_uri": "https://localhost:8080/"
        },
        "id": "jJM3YtbJJZhj",
        "outputId": "87f2d0e9-37ec-481a-ee5c-ade42565397d"
      },
      "execution_count": null,
      "outputs": [
        {
          "output_type": "stream",
          "name": "stdout",
          "text": [
            "Overwriting test2.c\n"
          ]
        }
      ]
    },
    {
      "cell_type": "code",
      "source": [
        "%%shell\n",
        "gcc test2.c -o test2\n",
        "./test2"
      ],
      "metadata": {
        "colab": {
          "base_uri": "https://localhost:8080/"
        },
        "id": "S0G1fZYxJ5v8",
        "outputId": "658aa63a-2edd-40ce-9fd9-998da7466eeb"
      },
      "execution_count": null,
      "outputs": [
        {
          "output_type": "stream",
          "name": "stdout",
          "text": [
            "127\n",
            "-128\n"
          ]
        },
        {
          "output_type": "execute_result",
          "data": {
            "text/plain": []
          },
          "metadata": {},
          "execution_count": 61
        }
      ]
    },
    {
      "cell_type": "markdown",
      "source": [
        "# Example 9\n",
        "## 位元運算\n",
        "[C reference 對於算數運算子的說明](http://en.cppreference.com/w/c/language/operator_arithmetic)  \n",
        "\n",
        "C 語言提供了一些 bitwise operators，讓我們能用更低階的方式去存取和修改資料  \n",
        "*   `~` (bitwise NOT)  \n",
        "    將每個 bit 的值反轉  \n",
        "    ```C\n",
        "    unsigned int a = ~0;\n",
        "    // 將 a 用二進位表示出來，會得到所有 bit 都是 1\n",
        "    ```  \n",
        "*   `&` (bitwise AND)  \n",
        "    將兩個 operand 對應的 bit 進行 AND 運算  \n",
        "    ```C\n",
        "    // 假設 char 是 8 bit\n",
        "    unsigned char a = 190; // 1011 1110\n",
        "    unsigned char b = 162; // 1010 0010\n",
        "    unsigned char c = a&b; // 1010 0010 = 162\n",
        "    ```  \n",
        "*   `|` (bitwise OR)  \n",
        "    將兩個 operand 對應的 bit 進行 OR 運算  \n",
        "    ```C\n",
        "    // 假設 char 是 8 bit\n",
        "    unsigned char a = 190; // 1011 1110\n",
        "    unsigned char b = 162; // 1010 0010\n",
        "    unsigned char c = a|b; // 1011 1110 = 190\n",
        "    ```  \n",
        "*   `^` (bitwise XOR)  \n",
        "    將兩個 operand 對應的 bit 進行 XOR 運算  \n",
        "    ```C\n",
        "    // 假設 char 是 8 bit\n",
        "    unsigned char a = 190; // 1011 1110\n",
        "    unsigned char b = 162; // 1010 0010\n",
        "    unsigned char c = a^b; // 0001 1100 = 28\n",
        "    ```  \n",
        "*   `<<` (left shift)  \n",
        "    ```C\n",
        "    // 假設 char 是 8 bit\n",
        "    unsigned char x = 5; // 0000 0101 = 5\n",
        "    unsigned char y = x << 3; // 0010 1000 = 40 = 5 * (2^3)\n",
        "    ```  \n",
        "*   `>>` (right shift)  \n",
        "    ```C\n",
        "    // 假設 char 是 8 bit\n",
        "    unsigned char x = 59; // 0011 1011 = 59\n",
        "    unsigned char y = x >> 1; // 0001 1101 = 29 = 59 / (2^1)\n",
        "    ```  \n",
        "\n",
        "> Note:  \n",
        "> 對於 shift operators 其實要注意 operands 的正負號  \n",
        "> 可以參考開頭的網址了解更多細節，以及整數提升的規則  \n",
        "  "
      ],
      "metadata": {
        "id": "BFbRzkH1ED4x"
      }
    },
    {
      "cell_type": "code",
      "source": [
        "%%writefile test.c\n",
        "#include <stdio.h>\n",
        "\n",
        "int main(void)\n",
        "{\n",
        "  char a = 0xFF;\n",
        "  printf(\"%d\\n\", a);\n",
        "  return 0;\n",
        "}\n"
      ],
      "metadata": {
        "colab": {
          "base_uri": "https://localhost:8080/"
        },
        "id": "C5Z36Vj2r7H7",
        "outputId": "16fc3ed3-78ef-41bf-db07-666c8d8db81e"
      },
      "execution_count": null,
      "outputs": [
        {
          "output_type": "stream",
          "name": "stdout",
          "text": [
            "Overwriting test.c\n"
          ]
        }
      ]
    },
    {
      "cell_type": "code",
      "source": [
        "%%shell\n",
        "gcc test.c -o test\n",
        "./test\n",
        "\n"
      ],
      "metadata": {
        "colab": {
          "base_uri": "https://localhost:8080/"
        },
        "id": "V6nWwud2tc7u",
        "outputId": "29f2376d-8327-46a7-b375-e9ef30d12ec0"
      },
      "execution_count": null,
      "outputs": [
        {
          "output_type": "stream",
          "name": "stdout",
          "text": [
            "-1\n"
          ]
        },
        {
          "output_type": "execute_result",
          "data": {
            "text/plain": []
          },
          "metadata": {},
          "execution_count": 68
        }
      ]
    }
  ]
}